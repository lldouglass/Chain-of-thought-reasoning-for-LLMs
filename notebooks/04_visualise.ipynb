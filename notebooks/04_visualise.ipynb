{
 "cells": [
  {
   "cell_type": "markdown",
   "id": "e1ed6c93",
   "metadata": {},
   "source": [
    "MD # 04 Visualise layer-patch scores\n",
    "MD Heat-map + summary statistics."
   ]
  },
  {
   "cell_type": "code",
   "execution_count": 1,
   "id": "17a7fce5",
   "metadata": {},
   "outputs": [
    {
     "ename": "ModuleNotFoundError",
     "evalue": "No module named 'seaborn'",
     "output_type": "error",
     "traceback": [
      "\u001b[31m---------------------------------------------------------------------------\u001b[39m",
      "\u001b[31mModuleNotFoundError\u001b[39m                       Traceback (most recent call last)",
      "\u001b[36mCell\u001b[39m\u001b[36m \u001b[39m\u001b[32mIn[1]\u001b[39m\u001b[32m, line 1\u001b[39m\n\u001b[32m----> \u001b[39m\u001b[32m1\u001b[39m \u001b[38;5;28;01mimport\u001b[39;00m\u001b[38;5;250m \u001b[39m\u001b[34;01mjson\u001b[39;00m,\u001b[38;5;250m \u001b[39m\u001b[34;01mpandas\u001b[39;00m\u001b[38;5;250m \u001b[39m\u001b[38;5;28;01mas\u001b[39;00m\u001b[38;5;250m \u001b[39m\u001b[34;01mpd\u001b[39;00m,\u001b[38;5;250m \u001b[39m\u001b[34;01mseaborn\u001b[39;00m\u001b[38;5;250m \u001b[39m\u001b[38;5;28;01mas\u001b[39;00m\u001b[38;5;250m \u001b[39m\u001b[34;01msns\u001b[39;00m,\u001b[38;5;250m \u001b[39m\u001b[34;01mmatplotlib\u001b[39;00m\u001b[34;01m.\u001b[39;00m\u001b[34;01mpyplot\u001b[39;00m\u001b[38;5;250m \u001b[39m\u001b[38;5;28;01mas\u001b[39;00m\u001b[38;5;250m \u001b[39m\u001b[34;01mplt\u001b[39;00m\n\u001b[32m      2\u001b[39m \u001b[38;5;28;01mimport\u001b[39;00m\u001b[38;5;250m \u001b[39m\u001b[34;01msys\u001b[39;00m,\u001b[38;5;250m \u001b[39m\u001b[34;01mpathlib\u001b[39;00m,\u001b[38;5;250m \u001b[39m\u001b[34;01mimportlib\u001b[39;00m\n\u001b[32m      3\u001b[39m sys.path.append(\u001b[38;5;28mstr\u001b[39m(pathlib.Path(\u001b[33m'\u001b[39m\u001b[33m..\u001b[39m\u001b[33m'\u001b[39m).resolve()))   \u001b[38;5;66;03m# let Python see project root\u001b[39;00m\n",
      "\u001b[31mModuleNotFoundError\u001b[39m: No module named 'seaborn'"
     ]
    }
   ],
   "source": [
    "import json, pandas as pd, seaborn as sns, matplotlib.pyplot as plt\n",
    "import sys, pathlib, importlib\n",
    "sys.path.append(str(pathlib.Path('..').resolve()))   # let Python see project root\n",
    "\n",
    "from utils import set_seed, load_model, load_prompts\n",
    "set_seed(42)  # for reproducibility\n",
    "scores = json.load(open('../data/layer_grid.json'))\n",
    "df = pd.DataFrame(scores).T\n",
    "print('dataframe shape', df.shape)\n",
    "\n",
    "plt.figure(figsize=(12, 4))\n",
    "sns.heatmap(df, cmap='viridis', center=0)\n",
    "plt.xlabel('Layer'); plt.ylabel('Prompt'); plt.title('Δ-log-odds after patching')\n",
    "plt.tight_layout(); plt.show()"
   ]
  }
 ],
 "metadata": {
  "kernelspec": {
   "display_name": ".venv",
   "language": "python",
   "name": "python3"
  },
  "language_info": {
   "codemirror_mode": {
    "name": "ipython",
    "version": 3
   },
   "file_extension": ".py",
   "mimetype": "text/x-python",
   "name": "python",
   "nbconvert_exporter": "python",
   "pygments_lexer": "ipython3",
   "version": "3.13.1"
  }
 },
 "nbformat": 4,
 "nbformat_minor": 5
}
