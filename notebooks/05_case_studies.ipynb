{
 "cells": [
  {
   "cell_type": "markdown",
   "id": "dab5f93c",
   "metadata": {},
   "source": [
    "MD # 05 Case-study visualisation\n",
    "MD Drill-down into one prompt, plot logit trajectories, attention maps (optional).\n"
   ]
  },
  {
   "cell_type": "code",
   "execution_count": null,
   "id": "65b6c654",
   "metadata": {},
   "outputs": [],
   "source": [
    "import torch, matplotlib.pyplot as plt\n",
    "from pathlib import Path\n",
    "import sys, pathlib, importlib\n",
    "sys.path.append(str(pathlib.Path('..').resolve()))   # let Python see project root\n",
    "\n",
    "from utils import set_seed, load_model, load_prompts\n",
    "\n",
    "\n",
    "prompt_idx = 0  # pick a prompt\n",
    "prompts = load_prompts('../data/reasoning_prompts.json')\n",
    "model, tok = load_model('gpt2')\n",
    "ids = tok(prompts[prompt_idx], return_tensors='pt').input_ids.to(DEVICE)\n",
    "\n",
    "a = model(ids, output_hidden_states=True)\n",
    "logits = a.logits.detach()\n",
    "hidden = torch.stack(a.hidden_states)  # (layers+1, b, s, d)\n",
    "\n",
    "# plot logit trajectory for token of interest\n",
    "layer_range = range(hidden.shape[0])\n",
    "target_id = tok(' 4').input_ids[0]\n",
    "vals = [model.lm_head(h[0])[-1, target_id].item() for h in hidden]\n",
    "plt.plot(layer_range, vals, marker='o')\n",
    "plt.xlabel('Layer'); plt.ylabel('Logit for \\\"4\\\"'); plt.title('Logit trajectory')\n",
    "plt.show()"
   ]
  }
 ],
 "metadata": {
  "kernelspec": {
   "display_name": ".venv",
   "language": "python",
   "name": "python3"
  },
  "language_info": {
   "name": "python",
   "version": "3.13.1"
  }
 },
 "nbformat": 4,
 "nbformat_minor": 5
}
