{
 "cells": [
  {
   "cell_type": "markdown",
   "id": "4fae93ac",
   "metadata": {},
   "source": [
    "MD # 00 Environment check\n",
    "MD Verify CUDA, PyTorch and Transformers versions."
   ]
  },
  {
   "cell_type": "code",
   "execution_count": 1,
   "id": "01ad9951",
   "metadata": {},
   "outputs": [
    {
     "name": "stderr",
     "output_type": "stream",
     "text": [
      "c:\\Users\\logan\\Chain-of-thought-reasoning-for-LLMs\\.venv\\Lib\\site-packages\\tqdm\\auto.py:21: TqdmWarning: IProgress not found. Please update jupyter and ipywidgets. See https://ipywidgets.readthedocs.io/en/stable/user_install.html\n",
      "  from .autonotebook import tqdm as notebook_tqdm\n"
     ]
    },
    {
     "name": "stdout",
     "output_type": "stream",
     "text": [
      "Python  3.13.1 (tags/v3.13.1:0671451, Dec  3 2024, 19:06:28) [MSC v.1942 64 bit (AMD64)]\n",
      "Platform Windows-10-10.0.19045-SP0\n",
      "CUDA available: False\n",
      "torch         : 2.6.0+cpu\n",
      "transformers  : 4.51.3\n"
     ]
    }
   ],
   "source": [
    "import torch, transformers, sys, platform\n",
    "print('Python ', sys.version)\n",
    "print('Platform', platform.platform())\n",
    "print('CUDA available:', torch.cuda.is_available())\n",
    "if torch.cuda.is_available():\n",
    "    print('GPU name      :', torch.cuda.get_device_name(0))\n",
    "print('torch         :', torch.__version__)\n",
    "print('transformers  :', transformers.__version__)"
   ]
  }
 ],
 "metadata": {
  "kernelspec": {
   "display_name": ".venv",
   "language": "python",
   "name": "python3"
  },
  "language_info": {
   "codemirror_mode": {
    "name": "ipython",
    "version": 3
   },
   "file_extension": ".py",
   "mimetype": "text/x-python",
   "name": "python",
   "nbconvert_exporter": "python",
   "pygments_lexer": "ipython3",
   "version": "3.13.1"
  }
 },
 "nbformat": 4,
 "nbformat_minor": 5
}
