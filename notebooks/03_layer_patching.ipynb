{
 "cells": [
  {
   "cell_type": "markdown",
   "id": "efd1de36",
   "metadata": {},
   "source": [
    "MD # 03 Layer-patching grid\n",
    "MD Swaps hidden-states layer-by-layer, computes Δ-log-odds."
   ]
  },
  {
   "cell_type": "code",
   "execution_count": 40,
   "id": "50ec4f3b",
   "metadata": {},
   "outputs": [],
   "source": [
    "import sys, pathlib, re, json, torch\n",
    "from pathlib import Path\n",
    "\n",
    "# let Python see project root (.. -> CHAIN-COT-PROJECT)\n",
    "sys.path.append(str(pathlib.Path(\"..\").resolve()))\n",
    "from src.utils import load_model, load_prompts, set_seed, DEVICE\n"
   ]
  },
  {
   "cell_type": "code",
   "execution_count": 41,
   "id": "c33b9b48",
   "metadata": {},
   "outputs": [],
   "source": [
    "def safe_slug(text: str, max_len: int = 40) -> str:\n",
    "    return re.sub(r\"[^0-9A-Za-z_-]\", \"_\", text)[:max_len].rstrip(\"_\")\n"
   ]
  },
  {
   "cell_type": "code",
   "execution_count": 42,
   "id": "f8bb457b",
   "metadata": {},
   "outputs": [],
   "source": [
    "set_seed(0)\n",
    "model, tok = load_model(\"gpt2\")\n",
    "model.config.use_cache = False          # ensure tensor outputs\n",
    "\n",
    "prompts   = load_prompts(\"../data/reasoning_prompts.json\")\n",
    "cache_dir = Path(\"../data/caches\")\n",
    "assert cache_dir.exists(), \"Run 02_mvp_capture first!\"\n"
   ]
  },
  {
   "cell_type": "code",
   "execution_count": 43,
   "id": "8c051f80",
   "metadata": {},
   "outputs": [],
   "source": [
    "def to_3d(t: torch.Tensor) -> torch.Tensor:\n",
    "    \"\"\"\n",
    "    Ensure tensor has shape (1, seq, hidden).\n",
    "    Accepts (hidden) / (seq, hidden) / (1, seq, hidden).\n",
    "    \"\"\"\n",
    "    if t.dim() == 1:                # (hidden)          -> (1, 1, hidden)\n",
    "        t = t.unsqueeze(0).unsqueeze(0)\n",
    "    elif t.dim() == 2:              # (seq, hidden)     -> (1, seq, hidden)\n",
    "        t = t.unsqueeze(0)\n",
    "    return t\n"
   ]
  },
  {
   "cell_type": "code",
   "execution_count": 44,
   "id": "286b2830",
   "metadata": {},
   "outputs": [],
   "source": [
    "@torch.no_grad()\n",
    "def grid_scores(ids, donor):\n",
    "    corrupt = ids.clone()\n",
    "    corrupt[0, -1] = tok.eos_token_id\n",
    "    incorrect = model(corrupt, use_cache=False).logits\n",
    "    target_id = tok(\" 4\").input_ids[0]\n",
    "\n",
    "    seq_len  = ids.size(1)\n",
    "    hidden   = model.config.n_embd\n",
    "\n",
    "    def to_bsh(t):\n",
    "        # → (1, seq_len, hidden) on current device\n",
    "        t = t.to(DEVICE)\n",
    "        if t.dim() == 1:\n",
    "            t = t.repeat(seq_len).view(1, seq_len, hidden)\n",
    "        elif t.dim() == 2:\n",
    "            if t.size(0) < seq_len:\n",
    "                t = torch.cat([t, t[-1:].expand(seq_len - t.size(0), -1)], 0)\n",
    "            t = t[:seq_len].unsqueeze(0)\n",
    "        elif t.dim() == 3 and t.size(1) < seq_len:\n",
    "            t = torch.cat([t, t[:, -1:].expand(-1, seq_len - t.size(1), -1)], 1)\n",
    "        return t.contiguous()\n",
    "\n",
    "    scores = {}\n",
    "    for layer in range(model.config.n_layer):\n",
    "        donor_t = to_bsh(donor[layer])\n",
    "\n",
    "        def _patch(_m, _i, out):\n",
    "            \"\"\"Make donor_t match *hidden-state* dtype, and keep tuple if needed.\"\"\"\n",
    "            dtype = out[0].dtype if isinstance(out, (tuple, list)) else out.dtype\n",
    "            patched = donor_t.to(dtype)\n",
    "            if isinstance(out, (tuple, list)):\n",
    "                new_out = list(out)\n",
    "                new_out[0] = patched\n",
    "                return tuple(new_out)\n",
    "            return patched\n",
    "\n",
    "        h = model.transformer.h[layer].register_forward_hook(_patch, prepend=False)\n",
    "        patched = model(corrupt, use_cache=False).logits\n",
    "        h.remove()\n",
    "\n",
    "        scores[layer] = (\n",
    "            patched[0, -1, target_id] - incorrect[0, -1, target_id]\n",
    "        ).item()\n",
    "    return scores\n"
   ]
  },
  {
   "cell_type": "code",
   "execution_count": 45,
   "id": "7f9327cd",
   "metadata": {},
   "outputs": [
    {
     "name": "stdout",
     "output_type": "stream",
     "text": [
      "✓ Q__What_is_2___3__A\n",
      "✓ Q__If_I_have_five_apples_and_eat_two__ho\n",
      "✅  saved → data\\layer_grid.json\n"
     ]
    }
   ],
   "source": [
    "results = {}\n",
    "for p in prompts:\n",
    "    slug = safe_slug(p)\n",
    "    donor_hidden = torch.load(cache_dir / f\"{slug}.pt\", map_location=DEVICE)\n",
    "    ids = tok(p, return_tensors=\"pt\").input_ids.to(DEVICE)\n",
    "\n",
    "    results[p] = grid_scores(ids, donor_hidden)\n",
    "    print(\"✓\", slug)\n",
    "\n",
    "out_path = Path(\"../data/layer_grid.json\")\n",
    "out_path.parent.mkdir(exist_ok=True)\n",
    "json.dump(results, open(out_path, \"w\"), indent=2)\n",
    "print(\"✅  saved →\", out_path.relative_to('..'))\n"
   ]
  }
 ],
 "metadata": {
  "kernelspec": {
   "display_name": ".venv",
   "language": "python",
   "name": "python3"
  },
  "language_info": {
   "codemirror_mode": {
    "name": "ipython",
    "version": 3
   },
   "file_extension": ".py",
   "mimetype": "text/x-python",
   "name": "python",
   "nbconvert_exporter": "python",
   "pygments_lexer": "ipython3",
   "version": "3.13.1"
  }
 },
 "nbformat": 4,
 "nbformat_minor": 5
}
