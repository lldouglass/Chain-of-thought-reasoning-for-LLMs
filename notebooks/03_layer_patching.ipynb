{
 "cells": [
  {
   "cell_type": "markdown",
   "id": "efd1de36",
   "metadata": {},
   "source": [
    "MD # 03 Layer-patching grid\n",
    "MD Swaps hidden-states layer-by-layer, computes Δ-log-odds."
   ]
  },
  {
   "cell_type": "code",
   "execution_count": 7,
   "id": "d01e8fb3",
   "metadata": {},
   "outputs": [
    {
     "ename": "NameError",
     "evalue": "name 'DEVICE' is not defined",
     "output_type": "error",
     "traceback": [
      "\u001b[31m---------------------------------------------------------------------------\u001b[39m",
      "\u001b[31mNameError\u001b[39m                                 Traceback (most recent call last)",
      "\u001b[36mCell\u001b[39m\u001b[36m \u001b[39m\u001b[32mIn[7]\u001b[39m\u001b[32m, line 36\u001b[39m\n\u001b[32m     34\u001b[39m slug = safe_slug(p)\n\u001b[32m     35\u001b[39m donor_hidden = torch.load(\u001b[33mf\u001b[39m\u001b[33m'\u001b[39m\u001b[33m../data/caches/\u001b[39m\u001b[38;5;132;01m{\u001b[39;00mslug\u001b[38;5;132;01m}\u001b[39;00m\u001b[33m.pt\u001b[39m\u001b[33m'\u001b[39m)\n\u001b[32m---> \u001b[39m\u001b[32m36\u001b[39m ids = tok(p, return_tensors=\u001b[33m'\u001b[39m\u001b[33mpt\u001b[39m\u001b[33m'\u001b[39m).input_ids.to(\u001b[43mDEVICE\u001b[49m)\n\u001b[32m     38\u001b[39m \u001b[38;5;66;03m# corrupt final token -> EOS for wrong-answer baseline\u001b[39;00m\n\u001b[32m     39\u001b[39m corrupted = ids.clone(); corrupted[\u001b[32m0\u001b[39m, -\u001b[32m1\u001b[39m] = tok.eos_token_id\n",
      "\u001b[31mNameError\u001b[39m: name 'DEVICE' is not defined"
     ]
    }
   ],
   "source": [
    "import torch, json, numpy as np\n",
    "from pathlib import Path\n",
    "import sys, pathlib, importlib\n",
    "import re\n",
    "\n",
    "sys.path.append(str(pathlib.Path('..').resolve()))   # let Python see project root\n",
    "\n",
    "sys.path.append(str(pathlib.Path('src').resolve()))\n",
    "from src.utils import set_seed, load_model, load_prompts\n",
    "\n",
    "def safe_slug(text: str, max_len: int = 40) -> str:\n",
    "    \"\"\"\n",
    "    Turn an arbitrary string into a Windows-safe filename.\n",
    "    Keeps A–Z, a–z, 0–9, dash and underscore; drops anything else.\n",
    "    \"\"\"\n",
    "    clean = re.sub(r\"[^0-9A-Za-z_-]\", \"_\", text)   # replace bad chars with _\n",
    "    return clean[:max_len].rstrip(\"_\")\n",
    "\n",
    "# --- load model & prompts ---\n",
    "model, tok = load_model('gpt2')\n",
    "prompts = load_prompts('../data/reasoning_prompts.json')\n",
    "\n",
    "def _patch(_m, _i, out):\n",
    "    if isinstance(out, (tuple, list)):\n",
    "        # replace hidden-state but keep the rest of the tuple structure\n",
    "        new_out = list(out)\n",
    "        new_out[0] = donor_hidden[layer]\n",
    "        return tuple(new_out)\n",
    "    return donor_hidden[layer]\n",
    "\n",
    "\n",
    "results = {}\n",
    "for p in prompts:\n",
    "    slug = safe_slug(p)\n",
    "    donor_hidden = torch.load(f'../data/caches/{slug}.pt')\n",
    "    ids = tok(p, return_tensors='pt').input_ids.to(DEVICE)\n",
    "\n",
    "    # corrupt final token -> EOS for wrong-answer baseline\n",
    "    corrupted = ids.clone(); corrupted[0, -1] = tok.eos_token_id\n",
    "    incorrect_logits = model(corrupted).logits\n",
    "    target_id = tok(' 4').input_ids[0]        # task-specific target\n",
    "\n",
    "    layer_scores = {}\n",
    "    for layer in range(model.config.n_layer):\n",
    "        def _patch(_m, _i, _o):\n",
    "            return donor_hidden[layer]\n",
    "        h = model.transformer.h[layer].register_forward_hook(_patch)\n",
    "        patched_logits = model(corrupted).logits\n",
    "        h.remove()\n",
    "        layer_scores[layer] = (\n",
    "            patched_logits[0, -1, target_id] -\n",
    "            incorrect_logits[0, -1, target_id]\n",
    "        ).item()\n",
    "    results[p] = layer_scores\n",
    "    print('done', slug)\n",
    "\n",
    "Path('../data').mkdir(exist_ok=True)\n",
    "json.dump(results, open('../data/layer_grid.json', 'w'), indent=2)\n",
    "print('saved layer_grid.json')"
   ]
  }
 ],
 "metadata": {
  "kernelspec": {
   "display_name": ".venv",
   "language": "python",
   "name": "python3"
  },
  "language_info": {
   "codemirror_mode": {
    "name": "ipython",
    "version": 3
   },
   "file_extension": ".py",
   "mimetype": "text/x-python",
   "name": "python",
   "nbconvert_exporter": "python",
   "pygments_lexer": "ipython3",
   "version": "3.13.1"
  }
 },
 "nbformat": 4,
 "nbformat_minor": 5
}
